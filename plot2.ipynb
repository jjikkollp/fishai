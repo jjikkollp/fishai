{
 "cells": [
  {
   "cell_type": "code",
   "execution_count": 31,
   "metadata": {
    "scrolled": true
   },
   "outputs": [],
   "source": [
    "#将图片内嵌在交互窗口，而不是弹出一个图片窗口\n",
    "#%matplotlib inline \n",
    "import matplotlib.pyplot as plt\n",
    "import numpy as np\n",
    "from datetime import datetime\n",
    "\n",
    "def printuids(data):\n",
    "    header = data.readline()[:-1].split('\\t')\n",
    "    orders = []\n",
    "    x = []\n",
    "    y = []\n",
    "    for lines in data:\n",
    "        raw = lines[:-1].split('\\t')\n",
    "        fields = {}\n",
    "        idx = 0\n",
    "        for item in header:\n",
    "            fields[item] = raw[idx]\n",
    "            idx+=1 \n",
    "        orders.append(fields)\n",
    "    uids = []\n",
    "    for order in orders:\n",
    "        uid = int(order['seller_uid'])\n",
    "        uids.append(uid)\n",
    "    uids = sorted(set(uids))\n",
    "    f = open('test_uids', 'w')\n",
    "    for x in uids:\n",
    "        f.write(str(x) + '\\n')\n",
    "    f.close()\n",
    "    \n",
    "data = open('data/SeedCup_pre_test.csv', 'r')\n",
    "printuids(data)"
   ]
  },
  {
   "cell_type": "code",
   "execution_count": null,
   "metadata": {},
   "outputs": [],
   "source": []
  }
 ],
 "metadata": {
  "kernelspec": {
   "display_name": "Python 3",
   "language": "python",
   "name": "python3"
  },
  "language_info": {
   "codemirror_mode": {
    "name": "ipython",
    "version": 3
   },
   "file_extension": ".py",
   "mimetype": "text/x-python",
   "name": "python",
   "nbconvert_exporter": "python",
   "pygments_lexer": "ipython3",
   "version": "3.7.4"
  }
 },
 "nbformat": 4,
 "nbformat_minor": 2
}
